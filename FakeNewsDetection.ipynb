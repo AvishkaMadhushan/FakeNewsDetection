{
  "nbformat": 4,
  "nbformat_minor": 0,
  "metadata": {
    "colab": {
      "provenance": [],
      "authorship_tag": "ABX9TyNYEX7ydO6lIsdhB3O/VCVp",
      "include_colab_link": true
    },
    "kernelspec": {
      "name": "python3",
      "display_name": "Python 3"
    },
    "language_info": {
      "name": "python"
    }
  },
  "cells": [
    {
      "cell_type": "markdown",
      "metadata": {
        "id": "view-in-github",
        "colab_type": "text"
      },
      "source": [
        "<a href=\"https://colab.research.google.com/github/AvishkaMadhushan/FakeNewsDetection/blob/develop/FakeNewsDetection.ipynb\" target=\"_parent\"><img src=\"https://colab.research.google.com/assets/colab-badge.svg\" alt=\"Open In Colab\"/></a>"
      ]
    },
    {
      "cell_type": "code",
      "execution_count": 1,
      "metadata": {
        "id": "bMPzj74o68sO"
      },
      "outputs": [],
      "source": [
        "import pandas as pd\n"
      ]
    },
    {
      "cell_type": "code",
      "source": [
        "# Load the data sets\n",
        "fake_data = pd.read_csv('/content/Fake.csv')\n",
        "true_data = pd.read_csv('/content/True.csv')\n",
        "\n",
        "# Label target column\n",
        "fake_data['label'] = '0'\n",
        "true_data['label'] = '1'\n",
        "\n",
        "# Combine the data sets\n",
        "# Pass ignore_index=True directly to pd.concat\n",
        "data = pd.concat([fake_data, true_data], ignore_index=True)\n",
        "\n",
        "# Save combined data set\n",
        "data.to_csv(\"combined_news.csv\", index=False)"
      ],
      "metadata": {
        "id": "kcEkaJXa9d2c"
      },
      "execution_count": 14,
      "outputs": []
    },
    {
      "cell_type": "code",
      "source": [],
      "metadata": {
        "id": "S5nplokb-V2t"
      },
      "execution_count": null,
      "outputs": []
    }
  ]
}